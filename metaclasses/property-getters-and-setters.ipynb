{
 "cells": [
  {
   "cell_type": "markdown",
   "metadata": {},
   "source": [
    "# Property Getters and Setters\n",
    "A (very) simplified **aquarium** class to demonstrate the usage of the `property` and `<property_name>.setter` decorators.\n",
    "\n",
    "<a title=\"Tom Bayly from England / CC BY-SA (https://creativecommons.org/licenses/by-sa/2.0)\" href=\"https://commons.wikimedia.org/wiki/File:Marine_fish_(5791775758).jpg\"><img width=\"600\" alt=\"Marine fish (5791775758), cropped and resized\" src=\"./aquarium.png\"></a>\n",
    "\n",
    "\n",
    "### Attributes\n",
    "* **Salinity**:\n",
    "    Measured in parts per thousands (ppt). Has been simplified to either _limninc_ (fresh water, 0.0) and _marine_ (salt water, 35.0). Although there are exceptions, for the purpose of this example it is assumed that a a fresh water fish cannot live in salt water and a salt water fish cannot live in fresh water.\n",
    "\n",
    "* **Temperature**:\n",
    "    Measured in degrees Celsius (°C). Fish can live within a specific temperature _range_ and for them to thrive and reproduce that range is even smaller.\n",
    "\n",
    "* **Volume**:\n",
    "    Measured in litres (_l_). Fish require a minimum amount of water volume to thrive. Many species also require certain minimum dimensions but we simplify by only focusing on the actual volume. We also assume that the volume is a constant (that is, the water level is always max).\n",
    "\n",
    "* **Fish**:\n",
    "    Fish of the `Fish` class that have been added to the aquarium. There are multiple factors, a lot more than the three above, that determine whether a fish can thrive in an aquarium. But for the purpose of this example we focus only on _salinity_, _temperature_ and _volume_.\n"
   ]
  },
  {
   "cell_type": "code",
   "execution_count": 3,
   "metadata": {},
   "outputs": [],
   "source": [
    "from typing import Sequence\n",
    "from enum import Enum"
   ]
  },
  {
   "cell_type": "code",
   "execution_count": 4,
   "metadata": {},
   "outputs": [],
   "source": [
    "class Salinity(Enum):\n",
    "    \"\"\"Salinity in ppt (‰).\"\"\"\n",
    "    limnic: float = 0.0\n",
    "    marine: float = 35.0"
   ]
  },
  {
   "cell_type": "code",
   "execution_count": 5,
   "metadata": {},
   "outputs": [],
   "source": [
    "class MetaFishCounter(type):\n",
    "    @property\n",
    "    def count(cls) -> int:\n",
    "        \"\"\"Count number of fish by species.\n",
    "        \n",
    "        Return sum of all fish if class is Fish.\n",
    "        \"\"\"\n",
    "        if cls == Fish:\n",
    "            return cls._total\n",
    "        return cls._count\n",
    "\n",
    "    @property\n",
    "    def total(cls) -> int:\n",
    "        \"\"\"Count total number of fish.\n",
    "        \n",
    "        Return sum of all fish of species if class is not Fish.\n",
    "        \"\"\"\n",
    "        if cls == Fish:\n",
    "            return cls._total\n",
    "        return cls._count\n",
    "\n",
    "\n",
    "# Todo: ABC?\n",
    "class Fish(metaclass=MetaFishCounter):\n",
    "    common_name: str\n",
    "    salinity: Salinity\n",
    "    min_temperature_c: float\n",
    "    max_temperature_c: float\n",
    "    min_volume_l: float\n",
    "    _count: int = 0\n",
    "    _total: int = 0\n",
    "\n",
    "    def __init__(self):\n",
    "        \"\"\"Set unique id for each instantiated fish to differentiate between\n",
    "          individuals.\n",
    "        \"\"\"\n",
    "        Fish._total += 1\n",
    "        type(self)._count += 1\n",
    "        self._count: int = type(self)._count\n",
    "\n",
    "    @property\n",
    "    def count(self) -> int:\n",
    "        return type(self).count\n",
    "\n",
    "    @property\n",
    "    def total(self) -> int:\n",
    "        return type(self).count\n",
    "\n",
    "    @property\n",
    "    def ID(self):\n",
    "        return (f\"{''.join(word for word in self.common_name.lower().split())}-\" \n",
    "                f'{str(self._count).zfill(3)}')\n",
    "\n",
    "    def __repr__(self) -> str:\n",
    "        return f\"\"\"<Fish {self.common_name} #{self.ID}>\n",
    "Min required volume (l): {self.min_volume_l}\n",
    "Min temperature (°C): {self.min_temperature_c}\n",
    "Max temperature (°C): {self.max_temperature_c}\n",
    "Salinity: {self.salinity.name} ({self.salinity.value}‰)\n",
    "\"\"\"\n",
    "\n",
    "\n",
    "class BlueTang(Fish):\n",
    "    id_prefix: str = 'bt'\n",
    "    common_name = 'Blue Tang'\n",
    "    salinity = Salinity.marine\n",
    "    min_temperature_c = 22.23\n",
    "    max_temperature_c = 25.6\n",
    "    min_volume_l = 378.6\n",
    "\n",
    "\n",
    "class YellowTang(Fish):\n",
    "    id_prefix: str = 'yt'\n",
    "    common_name = 'Yellow Tang'\n",
    "    salinity = Salinity.marine\n",
    "    min_temperature_c = 22.23\n",
    "    max_temperature_c = 25.6\n",
    "    min_volume_l = 378.6\n",
    "\n",
    "\n",
    "class Blacktip(Fish):\n",
    "    id_prefix: str = 'bts'\n",
    "    common_name = 'Blacktip Reef Shark'\n",
    "    salinity = Salinity.marine\n",
    "    min_temperature_c = 22.23\n",
    "    max_temperature_c = 25.6\n",
    "    min_volume_l = 37854.11784\n",
    "\n",
    "\n",
    "class Betta(Fish):\n",
    "    id_prefix: str = 'ba'\n",
    "    common_name='Siamese Fighting Fish'\n",
    "    salinity = Salinity.limnic\n",
    "    min_temperature_c = 24.0\n",
    "    max_temperature_c = 28.0\n",
    "    min_volume_l = 35.0"
   ]
  },
  {
   "cell_type": "code",
   "execution_count": 6,
   "metadata": {},
   "outputs": [],
   "source": [
    "class Aquarium:\n",
    "    \"\"\"Represents an aquarium.\"\"\"\n",
    "\n",
    "    def __init__(\n",
    "        self,\n",
    "        volume_l: float,\n",
    "        salinity: Salinity,\n",
    "        temperature_c: float,\n",
    "    ) -> None:\n",
    "        \"\"\"Define aquarium size and water values. Fish are added later.\n",
    "        \n",
    "        All attributes are 'protected/private', meaning that they should not be\n",
    "          accessed or modified outside of the class.\n",
    "\n",
    "        To set and get the attributes we use property decorators, to avoid changing\n",
    "          a variable that will harm any fish already in the aquarium, or add fish that\n",
    "          wouldn't thrive in the current environment.\n",
    "        \"\"\"\n",
    "        self._VOLUME: float = volume_l\n",
    "        self._salinity: Salinity = salinity\n",
    "        self._temperature: float = temperature_c\n",
    "        self._fish: Sequencequence[Fish] = []\n",
    "\n",
    "    def __repr__(self) -> str:\n",
    "        return (f'<Aquarium {self.VOLUME}l, {self.temperature}°C,'\n",
    "               f'{self.salinity.name} ({self.salinity.value}‰)>')\n",
    "\n",
    "    @property\n",
    "    def VOLUME(self) -> float:\n",
    "        \"\"\"Volume in litres.\n",
    "        It is assumed the water level always is at the max level, making this value a constant\n",
    "          since the dimensions cannot be changed.\n",
    "        \"\"\"\n",
    "        return self._VOLUME\n",
    "\n",
    "    def has_valid_volume(self, fish: Fish) -> bool:\n",
    "        \"\"\"Check if volume is viable for fish being introduced to the aquarium.\n",
    "        \n",
    "        Since volume is a constant, this method is only used when adding fish to the aquarium.\n",
    "          Thus it can safely use self rather than being a static method.\n",
    "        \"\"\"\n",
    "        if fish.min_volume_l > self.VOLUME:\n",
    "            return False\n",
    "        return True\n",
    "\n",
    "    @property\n",
    "    def salinity(self) -> Salinity:\n",
    "        \"\"\"Salinity category.\n",
    "        This value is mutable but cannot be changed without being evaluated and suitable\n",
    "          for all fish in the aquarium.\n",
    "        \"\"\"\n",
    "        return self._salinity\n",
    "\n",
    "    @salinity.setter\n",
    "    def salinity(self, salinity: Salinity) -> None:\n",
    "        \"\"\"Set new salinity only if it's viable for all fish in the aquarium.\"\"\"\n",
    "        if Aquarium.is_valid_salinity(salinity, self.fish):\n",
    "            self._salinity = salinity\n",
    "        else:\n",
    "            raise ValueError(\"Unable to set salinity, it's not viable for all fish in the aquarium.\")\n",
    "\n",
    "    @staticmethod\n",
    "    def is_valid_salinity(salinity: Salinity, fishes: Sequence[Fish]) -> bool:\n",
    "        \"\"\"Check if new salinity is viable for each fish currently inhabiting or\n",
    "          being introduced to the aquarium.\n",
    "        \n",
    "        If there is no fish, temperature can always be changed.\n",
    "        We could use a list comprehension here but a for loop enables us to make an early return.\n",
    "        \"\"\"\n",
    "        for fish in fishes:\n",
    "            if fish.salinity is not salinity:\n",
    "                return False\n",
    "        return True\n",
    "\n",
    "    @property\n",
    "    def temperature(self) -> float:\n",
    "        \"\"\"Temperature in degrees Celsius.\"\"\"\n",
    "        return self._temperature\n",
    "\n",
    "    @temperature.setter\n",
    "    def temperature(self, temperature) -> None:\n",
    "        \"\"\"Set new salinity only if it's viable for all fish in the aquarium.\"\"\"\n",
    "        if Aquarium.is_valid_temperature(temperature, self.fish):\n",
    "            self._salinity = salinity\n",
    "        else:\n",
    "            raise ValueError(\"Unable to set salinity, it's not viable for all fish in the aquarium.\")\n",
    "\n",
    "    @staticmethod\n",
    "    def is_valid_temperature(temperature: float, fishes: Sequence[Fish]) -> bool:\n",
    "        \"\"\"Check if new temperature is viable for each fish currently inhabiting or\n",
    "          being introduced to the aquarium.\n",
    "        \n",
    "        To determine each fish's temperature range we use comparison operator chaining, including\n",
    "          both the min and max temperature values.\n",
    "        If there is no fish, temperature can always be changed.\n",
    "        We could use a list comprehension here but a for loop enables us to make an early return.\n",
    "        \"\"\"\n",
    "        for fish in fishes:\n",
    "            if not fish.min_temperature_c <= temperature <= fish.max_temperature_c:\n",
    "                return False\n",
    "        return True\n",
    "\n",
    "    @property\n",
    "    def fish(self) -> Sequence[Fish]:\n",
    "        \"\"\"Fish currently inhabiting the aquarium.\"\"\"\n",
    "        return self._fish\n",
    "\n",
    "    @fish.setter\n",
    "    def fish(self, fish: Fish) -> None:\n",
    "        \"\"\"Add fish to the aquarium.\n",
    "\n",
    "        For the purpose of this example fish can only be added and not removed.\n",
    "        \"\"\"\n",
    "        # Check if aquarium volume is sufficient.\n",
    "        if not self.has_valid_volume(fish):\n",
    "            raise ValueError(f'Unable to add fish {fish.common_name}; '\n",
    "                             f'Volume is too small ({self.VOLUME} l), requires at least {fish.min_volume_l} l')\n",
    "\n",
    "        # Check if water properties are viable.\n",
    "        # We use a tuple here to satisfy the type of the method argument.\n",
    "        if not Aquarium.is_valid_salinity(self.salinity, (fish, )):\n",
    "            raise ValueError(f'Unable to add fish {fish.common_name}; '\n",
    "                             f'Invalid salinity ({self.salinity.name}, {self.salinity.value}‰)')\n",
    "\n",
    "        if not Aquarium.is_valid_temperature(self.temperature, (fish, )):\n",
    "            raise ValueError(f'Unable to add fish {fish.common_name}; '\n",
    "                             f'Invalid temperature ({self.temperature}°C)')\n",
    "\n",
    "        self._fish.append(fish)\n"
   ]
  },
  {
   "cell_type": "code",
   "execution_count": 7,
   "metadata": {},
   "outputs": [
    {
     "data": {
      "text/plain": [
       "<Aquarium 600.0l, 25.5°C,marine (35.0‰)>"
      ]
     },
     "execution_count": 7,
     "metadata": {},
     "output_type": "execute_result"
    }
   ],
   "source": [
    "salt_water_600: Aquarium = Aquarium(volume_l=600.00, temperature_c=25.5, salinity=Salinity.marine)\n",
    "salt_water_600"
   ]
  },
  {
   "cell_type": "code",
   "execution_count": 8,
   "metadata": {
    "scrolled": true
   },
   "outputs": [
    {
     "data": {
      "text/plain": [
       "<Fish Yellow Tang #yellowtang-001>\n",
       "Min required volume (l): 378.6\n",
       "Min temperature (°C): 22.23\n",
       "Max temperature (°C): 25.6\n",
       "Salinity: marine (35.0‰)"
      ]
     },
     "execution_count": 8,
     "metadata": {},
     "output_type": "execute_result"
    }
   ],
   "source": [
    "yellow_tang: YellowTang = YellowTang()\n",
    "yellow_tang"
   ]
  },
  {
   "cell_type": "code",
   "execution_count": 9,
   "metadata": {},
   "outputs": [],
   "source": [
    "salt_water_600.fish = yellow_tang"
   ]
  },
  {
   "cell_type": "code",
   "execution_count": 10,
   "metadata": {},
   "outputs": [
    {
     "data": {
      "text/plain": [
       "[<Fish Yellow Tang #yellowtang-001>\n",
       " Min required volume (l): 378.6\n",
       " Min temperature (°C): 22.23\n",
       " Max temperature (°C): 25.6\n",
       " Salinity: marine (35.0‰)]"
      ]
     },
     "execution_count": 10,
     "metadata": {},
     "output_type": "execute_result"
    }
   ],
   "source": [
    "salt_water_600.fish"
   ]
  },
  {
   "cell_type": "code",
   "execution_count": 11,
   "metadata": {},
   "outputs": [
    {
     "data": {
      "text/plain": [
       "<Fish Blacktip Reef Shark #blacktipreefshark-001>\n",
       "Min required volume (l): 37854.11784\n",
       "Min temperature (°C): 22.23\n",
       "Max temperature (°C): 25.6\n",
       "Salinity: marine (35.0‰)"
      ]
     },
     "execution_count": 11,
     "metadata": {},
     "output_type": "execute_result"
    }
   ],
   "source": [
    "blacktip: Blacktip = Blacktip()\n",
    "blacktip"
   ]
  },
  {
   "cell_type": "code",
   "execution_count": 12,
   "metadata": {},
   "outputs": [
    {
     "ename": "ValueError",
     "evalue": "Unable to add fish Blacktip Reef Shark; Volume is too small (600.0 l), requires at least 37854.11784 l",
     "output_type": "error",
     "traceback": [
      "\u001b[0;31m---------------------------------------------------------------------------\u001b[0m",
      "\u001b[0;31mValueError\u001b[0m                                Traceback (most recent call last)",
      "\u001b[0;32m<ipython-input-12-c0f4fb28573c>\u001b[0m in \u001b[0;36m<module>\u001b[0;34m\u001b[0m\n\u001b[0;32m----> 1\u001b[0;31m \u001b[0msalt_water_600\u001b[0m\u001b[0;34m.\u001b[0m\u001b[0mfish\u001b[0m \u001b[0;34m=\u001b[0m \u001b[0mblacktip\u001b[0m\u001b[0;34m\u001b[0m\u001b[0;34m\u001b[0m\u001b[0m\n\u001b[0m",
      "\u001b[0;32m<ipython-input-6-e808aa1bf82d>\u001b[0m in \u001b[0;36mfish\u001b[0;34m(self, fish)\u001b[0m\n\u001b[1;32m    114\u001b[0m         \u001b[0;31m# Check if aquarium volume is sufficient.\u001b[0m\u001b[0;34m\u001b[0m\u001b[0;34m\u001b[0m\u001b[0;34m\u001b[0m\u001b[0m\n\u001b[1;32m    115\u001b[0m         \u001b[0;32mif\u001b[0m \u001b[0;32mnot\u001b[0m \u001b[0mself\u001b[0m\u001b[0;34m.\u001b[0m\u001b[0mhas_valid_volume\u001b[0m\u001b[0;34m(\u001b[0m\u001b[0mfish\u001b[0m\u001b[0;34m)\u001b[0m\u001b[0;34m:\u001b[0m\u001b[0;34m\u001b[0m\u001b[0;34m\u001b[0m\u001b[0m\n\u001b[0;32m--> 116\u001b[0;31m             raise ValueError(f'Unable to add fish {fish.common_name}; '\n\u001b[0m\u001b[1;32m    117\u001b[0m                              f'Volume is too small ({self.VOLUME} l), requires at least {fish.min_volume_l} l')\n\u001b[1;32m    118\u001b[0m \u001b[0;34m\u001b[0m\u001b[0m\n",
      "\u001b[0;31mValueError\u001b[0m: Unable to add fish Blacktip Reef Shark; Volume is too small (600.0 l), requires at least 37854.11784 l"
     ]
    }
   ],
   "source": [
    "salt_water_600.fish = blacktip"
   ]
  },
  {
   "cell_type": "code",
   "execution_count": 13,
   "metadata": {},
   "outputs": [
    {
     "data": {
      "text/plain": [
       "<Fish Siamese Fighting Fish #siamesefightingfish-001>\n",
       "Min required volume (l): 35.0\n",
       "Min temperature (°C): 24.0\n",
       "Max temperature (°C): 28.0\n",
       "Salinity: limnic (0.0‰)"
      ]
     },
     "execution_count": 13,
     "metadata": {},
     "output_type": "execute_result"
    }
   ],
   "source": [
    "betta: Betta = Betta()\n",
    "betta"
   ]
  },
  {
   "cell_type": "code",
   "execution_count": 14,
   "metadata": {},
   "outputs": [
    {
     "ename": "ValueError",
     "evalue": "Unable to add fish Siamese Fighting Fish; Invalid salinity (marine, 35.0‰)",
     "output_type": "error",
     "traceback": [
      "\u001b[0;31m---------------------------------------------------------------------------\u001b[0m",
      "\u001b[0;31mValueError\u001b[0m                                Traceback (most recent call last)",
      "\u001b[0;32m<ipython-input-14-ab3c8308a66f>\u001b[0m in \u001b[0;36m<module>\u001b[0;34m\u001b[0m\n\u001b[0;32m----> 1\u001b[0;31m \u001b[0msalt_water_600\u001b[0m\u001b[0;34m.\u001b[0m\u001b[0mfish\u001b[0m \u001b[0;34m=\u001b[0m \u001b[0mbetta\u001b[0m\u001b[0;34m\u001b[0m\u001b[0;34m\u001b[0m\u001b[0m\n\u001b[0m",
      "\u001b[0;32m<ipython-input-6-e808aa1bf82d>\u001b[0m in \u001b[0;36mfish\u001b[0;34m(self, fish)\u001b[0m\n\u001b[1;32m    120\u001b[0m         \u001b[0;31m# We use a tuple here to satisfy the type of the method argument.\u001b[0m\u001b[0;34m\u001b[0m\u001b[0;34m\u001b[0m\u001b[0;34m\u001b[0m\u001b[0m\n\u001b[1;32m    121\u001b[0m         \u001b[0;32mif\u001b[0m \u001b[0;32mnot\u001b[0m \u001b[0mAquarium\u001b[0m\u001b[0;34m.\u001b[0m\u001b[0mis_valid_salinity\u001b[0m\u001b[0;34m(\u001b[0m\u001b[0mself\u001b[0m\u001b[0;34m.\u001b[0m\u001b[0msalinity\u001b[0m\u001b[0;34m,\u001b[0m \u001b[0;34m(\u001b[0m\u001b[0mfish\u001b[0m\u001b[0;34m,\u001b[0m \u001b[0;34m)\u001b[0m\u001b[0;34m)\u001b[0m\u001b[0;34m:\u001b[0m\u001b[0;34m\u001b[0m\u001b[0;34m\u001b[0m\u001b[0m\n\u001b[0;32m--> 122\u001b[0;31m             raise ValueError(f'Unable to add fish {fish.common_name}; '\n\u001b[0m\u001b[1;32m    123\u001b[0m                              f'Invalid salinity ({self.salinity.name}, {self.salinity.value}‰)')\n\u001b[1;32m    124\u001b[0m \u001b[0;34m\u001b[0m\u001b[0m\n",
      "\u001b[0;31mValueError\u001b[0m: Unable to add fish Siamese Fighting Fish; Invalid salinity (marine, 35.0‰)"
     ]
    }
   ],
   "source": [
    "salt_water_600.fish = betta"
   ]
  },
  {
   "cell_type": "code",
   "execution_count": 15,
   "metadata": {},
   "outputs": [
    {
     "data": {
      "text/plain": [
       "<Fish Blue Tang #bluetang-001>\n",
       "Min required volume (l): 378.6\n",
       "Min temperature (°C): 22.23\n",
       "Max temperature (°C): 25.6\n",
       "Salinity: marine (35.0‰)"
      ]
     },
     "execution_count": 15,
     "metadata": {},
     "output_type": "execute_result"
    }
   ],
   "source": [
    "salt_water_600.fish = YellowTang()\n",
    "blue_tang = BlueTang()\n",
    "blue_tang"
   ]
  },
  {
   "cell_type": "code",
   "execution_count": 16,
   "metadata": {},
   "outputs": [],
   "source": [
    "for _ in range(6):\n",
    "    salt_water_600.fish = BlueTang()"
   ]
  },
  {
   "cell_type": "code",
   "execution_count": 17,
   "metadata": {},
   "outputs": [
    {
     "name": "stdout",
     "output_type": "stream",
     "text": [
      "Yellow Tang #yellowtang-001\n",
      "Yellow Tang #yellowtang-002\n",
      "Blue Tang #bluetang-002\n",
      "Blue Tang #bluetang-003\n",
      "Blue Tang #bluetang-004\n",
      "Blue Tang #bluetang-005\n",
      "Blue Tang #bluetang-006\n",
      "Blue Tang #bluetang-007\n"
     ]
    }
   ],
   "source": [
    "for fish in salt_water_600.fish:\n",
    "    print(fish.common_name, f'#{fish.ID}')"
   ]
  },
  {
   "cell_type": "code",
   "execution_count": 20,
   "metadata": {},
   "outputs": [
    {
     "data": {
      "text/plain": [
       "(7, 2, 1, 1)"
      ]
     },
     "execution_count": 20,
     "metadata": {},
     "output_type": "execute_result"
    }
   ],
   "source": [
    "BlueTang.count, YellowTang.count, Blacktip.count, Betta.count"
   ]
  },
  {
   "cell_type": "code",
   "execution_count": 21,
   "metadata": {},
   "outputs": [
    {
     "data": {
      "text/plain": [
       "11"
      ]
     },
     "execution_count": 21,
     "metadata": {},
     "output_type": "execute_result"
    }
   ],
   "source": [
    "Fish.count"
   ]
  },
  {
   "cell_type": "code",
   "execution_count": 23,
   "metadata": {},
   "outputs": [
    {
     "data": {
      "text/plain": [
       "8"
      ]
     },
     "execution_count": 23,
     "metadata": {},
     "output_type": "execute_result"
    }
   ],
   "source": [
    "len(salt_water_600.fish)"
   ]
  }
 ],
 "metadata": {
  "kernelspec": {
   "display_name": "Python 3",
   "language": "python",
   "name": "python3"
  },
  "language_info": {
   "codemirror_mode": {
    "name": "ipython",
    "version": 3
   },
   "file_extension": ".py",
   "mimetype": "text/x-python",
   "name": "python",
   "nbconvert_exporter": "python",
   "pygments_lexer": "ipython3",
   "version": "3.7.6"
  }
 },
 "nbformat": 4,
 "nbformat_minor": 4
}
